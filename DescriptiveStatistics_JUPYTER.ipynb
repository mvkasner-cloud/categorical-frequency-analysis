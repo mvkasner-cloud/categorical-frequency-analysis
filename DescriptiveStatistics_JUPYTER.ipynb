{
 "cells": [
  {
   "cell_type": "markdown",
   "id": "31b08c65",
   "metadata": {},
   "source": [
    "Shift + Enter – выполнить и перейти вниз\n",
    "\n",
    "Ctrl + Enter – выполнить и остаться на ячейке"
   ]
  },
  {
   "cell_type": "code",
   "execution_count": 1,
   "id": "2149c31f",
   "metadata": {},
   "outputs": [
    {
     "data": {
      "text/html": [
       "<div>\n",
       "<style scoped>\n",
       "    .dataframe tbody tr th:only-of-type {\n",
       "        vertical-align: middle;\n",
       "    }\n",
       "\n",
       "    .dataframe tbody tr th {\n",
       "        vertical-align: top;\n",
       "    }\n",
       "\n",
       "    .dataframe thead th {\n",
       "        text-align: right;\n",
       "    }\n",
       "</style>\n",
       "<table border=\"1\" class=\"dataframe\">\n",
       "  <thead>\n",
       "    <tr style=\"text-align: right;\">\n",
       "      <th></th>\n",
       "      <th>Status</th>\n",
       "      <th>Frequency</th>\n",
       "      <th>Relative Frequency, %</th>\n",
       "    </tr>\n",
       "  </thead>\n",
       "  <tbody>\n",
       "    <tr>\n",
       "      <th>0</th>\n",
       "      <td>Placed</td>\n",
       "      <td>53</td>\n",
       "      <td>0.56</td>\n",
       "    </tr>\n",
       "    <tr>\n",
       "      <th>1</th>\n",
       "      <td>Not Placed</td>\n",
       "      <td>42</td>\n",
       "      <td>0.44</td>\n",
       "    </tr>\n",
       "    <tr>\n",
       "      <th>2</th>\n",
       "      <td>GRAND TOTAL</td>\n",
       "      <td>95</td>\n",
       "      <td>1.00</td>\n",
       "    </tr>\n",
       "  </tbody>\n",
       "</table>\n",
       "</div>"
      ],
      "text/plain": [
       "        Status  Frequency  Relative Frequency, %\n",
       "0       Placed         53                   0.56\n",
       "1   Not Placed         42                   0.44\n",
       "2  GRAND TOTAL         95                   1.00"
      ]
     },
     "execution_count": 1,
     "metadata": {},
     "output_type": "execute_result"
    }
   ],
   "source": [
    "import pandas as pd\n",
    "file_path = r'F:\\Statistics for Data Analysis\\Statistics+for+Data+Analysis_MY\\SQL\\Statistics for Data Analysis.xlsx'\n",
    "sheet_name = 'Categorical Distributions'\n",
    "\n",
    "df = pd.read_excel(file_path, sheet_name=sheet_name)\n",
    "\n",
    "freq_df = df['Status'].value_counts().reset_index()\n",
    "freq_df.columns = ['Status','Frequency']\n",
    "\n",
    "total = freq_df['Frequency'].sum()\n",
    "freq_df['Relative Frequency, %'] = (freq_df['Frequency']/total).round(2)\n",
    "\n",
    "grand_total_row = pd.DataFrame({\n",
    "    'Status': ['GRAND TOTAL'], \n",
    "    'Frequency':[freq_df['Frequency'].sum()],\n",
    "    'Relative Frequency, %': [freq_df['Relative Frequency, %'].sum()]})\n",
    "\n",
    "freq_df = pd.concat([freq_df, grand_total_row], ignore_index=True)\n",
    "\n",
    "freq_df\n"
   ]
  },
  {
   "cell_type": "code",
   "execution_count": 2,
   "id": "7c0f1703",
   "metadata": {},
   "outputs": [],
   "source": [
    "\n",
    "freq_df.to_csv(r'F:\\Statistics for Data Analysis\\Statistics+for+Data+Analysis_MY\\SQL\\Categorical Distributions Python.csv', index=False)"
   ]
  }
 ],
 "metadata": {
  "kernelspec": {
   "display_name": "Python 3",
   "language": "python",
   "name": "python3"
  },
  "language_info": {
   "codemirror_mode": {
    "name": "ipython",
    "version": 3
   },
   "file_extension": ".py",
   "mimetype": "text/x-python",
   "name": "python",
   "nbconvert_exporter": "python",
   "pygments_lexer": "ipython3",
   "version": "3.13.5"
  }
 },
 "nbformat": 4,
 "nbformat_minor": 5
}
